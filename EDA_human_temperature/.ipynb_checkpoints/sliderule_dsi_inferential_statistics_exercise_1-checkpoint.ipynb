{
 "cells": [
  {
   "cell_type": "markdown",
   "metadata": {},
   "source": [
    "# What is the True Normal Human Body Temperature? \n",
    "\n",
    "#### Background\n",
    "\n",
    "The mean normal body temperature was held to be 37$^{\\circ}$C or 98.6$^{\\circ}$F for more than 120 years since it was first conceptualized and reported by Carl Wunderlich in a famous 1868 book. But, is this value statistically correct?"
   ]
  },
  {
   "cell_type": "markdown",
   "metadata": {},
   "source": [
    "<h3>Exercises</h3>\n",
    "\n",
    "<p>In this exercise, you will analyze a dataset of human body temperatures and employ the concepts of hypothesis testing, confidence intervals, and statistical significance.</p>\n",
    "\n",
    "<p>Answer the following questions <b>in this notebook below and submit to your Github account</b>.</p> \n",
    "\n",
    "<ol>\n",
    "<li>  Is the distribution of body temperatures normal? \n",
    "    <ul>\n",
    "    <li> Although this is not a requirement for the Central Limit Theorem to hold (read the introduction on Wikipedia's page about the CLT carefully: https://en.wikipedia.org/wiki/Central_limit_theorem), it gives us some peace of mind that the population may also be normally distributed if we assume that this sample is representative of the population.\n",
    "    <li> Think about the way you're going to check for the normality of the distribution. Graphical methods are usually used first, but there are also other ways: https://en.wikipedia.org/wiki/Normality_test\n",
    "    </ul>\n",
    "<li>  Is the sample size large? Are the observations independent?\n",
    "    <ul>\n",
    "    <li> Remember that this is a condition for the Central Limit Theorem, and hence the statistical tests we are using, to apply.\n",
    "    </ul>\n",
    "<li>  Is the true population mean really 98.6 degrees F?\n",
    "    <ul>\n",
    "    <li> First, try a bootstrap hypothesis test.\n",
    "    <li> Now, let's try frequentist statistical testing. Would you use a one-sample or two-sample test? Why?\n",
    "    <li> In this situation, is it appropriate to use the $t$ or $z$ statistic? \n",
    "    <li> Now try using the other test. How is the result be different? Why?\n",
    "    </ul>\n",
    "<li>  Draw a small sample of size 10 from the data and repeat both frequentist tests. \n",
    "    <ul>\n",
    "    <li> Which one is the correct one to use? \n",
    "    <li> What do you notice? What does this tell you about the difference in application of the $t$ and $z$ statistic?\n",
    "    </ul>\n",
    "<li>  At what temperature should we consider someone's temperature to be \"abnormal\"?\n",
    "    <ul>\n",
    "    <li> As in the previous example, try calculating everything using the boostrap approach, as well as the frequentist approach.\n",
    "    <li> Start by computing the margin of error and confidence interval. When calculating the confidence interval, keep in mind that you should use the appropriate formula for one draw, and not N draws.\n",
    "    </ul>\n",
    "<li>  Is there a significant difference between males and females in normal temperature?\n",
    "    <ul>\n",
    "    <li> What testing approach did you use and why?\n",
    "    <li> Write a story with your conclusion in the context of the original problem.\n",
    "    </ul>\n",
    "</ol>\n",
    "\n",
    "You can include written notes in notebook cells using Markdown: \n",
    "   - In the control panel at the top, choose Cell > Cell Type > Markdown\n",
    "   - Markdown syntax: http://nestacms.com/docs/creating-content/markdown-cheat-sheet\n",
    "\n",
    "#### Resources\n",
    "\n",
    "+ Information and data sources: http://www.amstat.org/publications/jse/datasets/normtemp.txt, http://www.amstat.org/publications/jse/jse_data_archive.htm\n",
    "+ Markdown syntax: http://nestacms.com/docs/creating-content/markdown-cheat-sheet\n",
    "\n",
    "****"
   ]
  },
  {
   "cell_type": "code",
   "execution_count": 188,
   "metadata": {
    "collapsed": true
   },
   "outputs": [],
   "source": [
    "import pandas as pd\n",
    "import matplotlib.pyplot as plt\n",
    "import seaborn as sns\n",
    "import numpy as np"
   ]
  },
  {
   "cell_type": "code",
   "execution_count": 42,
   "metadata": {
    "collapsed": true
   },
   "outputs": [],
   "source": [
    "df = pd.read_csv('data/human_body_temperature.csv')\n",
    "np.random.seed(42)"
   ]
  },
  {
   "cell_type": "code",
   "execution_count": 184,
   "metadata": {
    "collapsed": true
   },
   "outputs": [],
   "source": [
    "%matplotlib inline"
   ]
  },
  {
   "cell_type": "markdown",
   "metadata": {},
   "source": [
    "QUICK VIEW OF THE DATA"
   ]
  },
  {
   "cell_type": "code",
   "execution_count": 7,
   "metadata": {},
   "outputs": [
    {
     "data": {
      "text/html": [
       "<div>\n",
       "<style scoped>\n",
       "    .dataframe tbody tr th:only-of-type {\n",
       "        vertical-align: middle;\n",
       "    }\n",
       "\n",
       "    .dataframe tbody tr th {\n",
       "        vertical-align: top;\n",
       "    }\n",
       "\n",
       "    .dataframe thead th {\n",
       "        text-align: right;\n",
       "    }\n",
       "</style>\n",
       "<table border=\"1\" class=\"dataframe\">\n",
       "  <thead>\n",
       "    <tr style=\"text-align: right;\">\n",
       "      <th></th>\n",
       "      <th>temperature</th>\n",
       "      <th>gender</th>\n",
       "      <th>heart_rate</th>\n",
       "    </tr>\n",
       "  </thead>\n",
       "  <tbody>\n",
       "    <tr>\n",
       "      <th>0</th>\n",
       "      <td>99.3</td>\n",
       "      <td>F</td>\n",
       "      <td>68.0</td>\n",
       "    </tr>\n",
       "    <tr>\n",
       "      <th>1</th>\n",
       "      <td>98.4</td>\n",
       "      <td>F</td>\n",
       "      <td>81.0</td>\n",
       "    </tr>\n",
       "    <tr>\n",
       "      <th>2</th>\n",
       "      <td>97.8</td>\n",
       "      <td>M</td>\n",
       "      <td>73.0</td>\n",
       "    </tr>\n",
       "    <tr>\n",
       "      <th>3</th>\n",
       "      <td>99.2</td>\n",
       "      <td>F</td>\n",
       "      <td>66.0</td>\n",
       "    </tr>\n",
       "    <tr>\n",
       "      <th>4</th>\n",
       "      <td>98.0</td>\n",
       "      <td>F</td>\n",
       "      <td>73.0</td>\n",
       "    </tr>\n",
       "  </tbody>\n",
       "</table>\n",
       "</div>"
      ],
      "text/plain": [
       "   temperature gender  heart_rate\n",
       "0         99.3      F        68.0\n",
       "1         98.4      F        81.0\n",
       "2         97.8      M        73.0\n",
       "3         99.2      F        66.0\n",
       "4         98.0      F        73.0"
      ]
     },
     "execution_count": 7,
     "metadata": {},
     "output_type": "execute_result"
    }
   ],
   "source": [
    "df.head()"
   ]
  },
  {
   "cell_type": "code",
   "execution_count": 3,
   "metadata": {
    "scrolled": false
   },
   "outputs": [
    {
     "name": "stdout",
     "output_type": "stream",
     "text": [
      "<class 'pandas.core.frame.DataFrame'>\n",
      "RangeIndex: 130 entries, 0 to 129\n",
      "Data columns (total 3 columns):\n",
      "temperature    130 non-null float64\n",
      "gender         130 non-null object\n",
      "heart_rate     130 non-null float64\n",
      "dtypes: float64(2), object(1)\n",
      "memory usage: 3.1+ KB\n"
     ]
    }
   ],
   "source": [
    "df.info()"
   ]
  },
  {
   "cell_type": "markdown",
   "metadata": {},
   "source": [
    "USEFUL FUNCTIONS"
   ]
  },
  {
   "cell_type": "code",
   "execution_count": 14,
   "metadata": {
    "collapsed": true
   },
   "outputs": [],
   "source": [
    "def ecdf(data):\n",
    "    \"\"\"Empirical Cumulative Distribution Function\"\"\"\n",
    "    n = len(data)\n",
    "    x = np.sort(data)\n",
    "    y = np.arange(1, n+1) / n\n",
    "    return x, y"
   ]
  },
  {
   "cell_type": "code",
   "execution_count": 48,
   "metadata": {
    "collapsed": true
   },
   "outputs": [],
   "source": [
    "def bootstrap_replicate_1d(data, func):\n",
    "    \"\"\"Generate bootstrap replicate of 1d data.\"\"\"\n",
    "    bs_sample = np.random.choice(data, len(data))\n",
    "    return func(bs_sample)"
   ]
  },
  {
   "cell_type": "code",
   "execution_count": 66,
   "metadata": {},
   "outputs": [],
   "source": [
    "def draw_bs_reps(data, func, size=1):\n",
    "    \"\"\"Draw bootstrap replicates\"\"\"\n",
    "\n",
    "    #initialize empty array of replicates \n",
    "    bs_replicates = np.empty(shape=size)\n",
    "    \n",
    "    #Generate replicates\n",
    "    for i in range(size):\n",
    "        bs_replicates[i] = bootstrap_replicate_1d(data, func)\n",
    "    \n",
    "    return bs_replicates"
   ]
  },
  {
   "cell_type": "code",
   "execution_count": 51,
   "metadata": {
    "collapsed": true
   },
   "outputs": [],
   "source": [
    "def diff_of_means(data_1, data_2):\n",
    "    \"\"\"Difference in means of two arrays.\"\"\"\n",
    "    \n",
    "    #The difference of means\n",
    "    diff = np.mean(data_1) - np.mean(data_2)\n",
    "\n",
    "    return diff"
   ]
  },
  {
   "cell_type": "code",
   "execution_count": 58,
   "metadata": {},
   "outputs": [],
   "source": [
    "def sem(data):\n",
    "    \"\"\"Standard Error of the Mean\"\"\"\n",
    "    return np.std(data)/np.sqrt(len(data))"
   ]
  },
  {
   "cell_type": "markdown",
   "metadata": {},
   "source": [
    "1.) Is the distribution of body temperatures normal?"
   ]
  },
  {
   "cell_type": "code",
   "execution_count": 16,
   "metadata": {
    "collapsed": true
   },
   "outputs": [],
   "source": [
    "bin_temps = int(np.sqrt(len(df['temperature'])))\n",
    "b_temp = df['temperature']"
   ]
  },
  {
   "cell_type": "code",
   "execution_count": 105,
   "metadata": {},
   "outputs": [
    {
     "data": {
      "image/png": "[encoded data removed]",
      "text/plain": [
       "<Figure size 432x288 with 1 Axes>"
      ]
     },
     "metadata": {},
     "output_type": "display_data"
    },
    {
     "name": "stdout",
     "output_type": "stream",
     "text": [
      "The mean of the data is 98.24923076923078 with a standard deviation of 0.7303577789050377.\n",
      "The mean of the sample is 98.25238797960755 with a standard deviation of 0.732165321434236.\n"
     ]
    }
   ],
   "source": [
    "mean = np.mean(b_temp)\n",
    "std = np.std(b_temp)\n",
    "samples = np.random.normal(mean, std, size=10000)\n",
    "sample_mean = np.mean(samples)\n",
    "sample_std = np.std(samples)\n",
    "x, y = ecdf(b_temp)\n",
    "x_theor, y_theor = ecdf(samples)\n",
    "\n",
    "_ = plt.hist(b_temp, bins=bin_temps, density=True)\n",
    "_ = plt.hist(x_theor, bins=bin_temps, density=True, histtype='step')\n",
    "_ = plt.xlabel('Body Temperature (F)')\n",
    "_ = plt.ylabel('PDF')\n",
    "_ = plt.legend(['Theoretical', 'Actual'])\n",
    "_ = plt.title('PDF of the Actual verus Normal distribution')\n",
    "\n",
    "plt.show()\n",
    "\n",
    "print(f'The mean of the data is {mean} with a standard deviation of {std}.')\n",
    "print(f'The mean of the sample is {sample_mean} with a standard deviation of {sample_std}.')"
   ]
  },
  {
   "cell_type": "code",
   "execution_count": 47,
   "metadata": {},
   "outputs": [
    {
     "data": {
      "image/png": "[encoded data removed]",
      "text/plain": [
       "<Figure size 432x288 with 1 Axes>"
      ]
     },
     "metadata": {},
     "output_type": "display_data"
    }
   ],
   "source": [
    "_ = plt.plot(x_theor, y_theor)\n",
    "_ = plt.plot(x, y, marker='.', linestyle='none')\n",
    "_ = plt.xlabel('Body Temp. (F)')\n",
    "_ = plt.ylabel('CDF')\n",
    "_ = plt.legend(['Theor', 'Actual'])\n",
    "_ = plt.title('CDF of Body Temp (F)')\n",
    "\n",
    "plt.show()"
   ]
  },
  {
   "cell_type": "markdown",
   "metadata": {},
   "source": [
    "The distribution of Body temperature does seem normal, and the sample size is larger than 30."
   ]
  },
  {
   "cell_type": "markdown",
   "metadata": {},
   "source": [
    "2.) Is the sample size large, and is it independent?\n",
    "\n",
    "By rule of thumb and assuming the samples are random, the sample size is greater than or equal to 30 which assumes it is approximately normally distributed.  The sample size is also less than 10% of the human population."
   ]
  },
  {
   "cell_type": "markdown",
   "metadata": {},
   "source": [
    "3.) Is the true population mean really 98.6 degrees F?"
   ]
  },
  {
   "cell_type": "markdown",
   "metadata": {},
   "source": [
    "Bootstrap hypothesis test of the mean"
   ]
  },
  {
   "cell_type": "code",
   "execution_count": 74,
   "metadata": {},
   "outputs": [
    {
     "data": {
      "text/plain": [
       "98.15538461538462"
      ]
     },
     "execution_count": 74,
     "metadata": {},
     "output_type": "execute_result"
    }
   ],
   "source": [
    "#1 bootstrap replicate\n",
    "bootstrap_replicate_1d(b_temp, np.mean)"
   ]
  },
  {
   "cell_type": "code",
   "execution_count": 103,
   "metadata": {},
   "outputs": [],
   "source": [
    "#Draw 10000 bootstrap replicates for mean body temp\n",
    "bs_replicates = draw_bs_reps(b_temp, np.mean, size=10000)\n",
    "bs_sem = sem(b_temp)\n",
    "bs_std = np.std(bs_replicates)\n",
    "bs_mean = np.mean(bs_replicates)"
   ]
  },
  {
   "cell_type": "code",
   "execution_count": 77,
   "metadata": {},
   "outputs": [
    {
     "data": {
      "image/png": "[encoded data removed]",
      "text/plain": [
       "<Figure size 432x288 with 1 Axes>"
      ]
     },
     "metadata": {},
     "output_type": "display_data"
    }
   ],
   "source": [
    "bs_x, bs_y = ecdf(bs_replicates)\n",
    "_ = plt.plot(bs_x, bs_y, marker='.', linestyle='none')\n",
    "_ = plt.xlabel('Body Temp (F)')\n",
    "_ = plt.ylabel('CDF')\n",
    "_ = plt.title('CDF of 10,000 Bootstrapped means of Body Temp')\n",
    "plt.show()"
   ]
  },
  {
   "cell_type": "code",
   "execution_count": 191,
   "metadata": {},
   "outputs": [
    {
     "data": {
      "image/png": "[encoded data removed]",
      "text/plain": [
       "<Figure size 432x288 with 1 Axes>"
      ]
     },
     "metadata": {},
     "output_type": "display_data"
    },
    {
     "data": {
      "text/plain": [
       "<Figure size 1440x1440 with 0 Axes>"
      ]
     },
     "metadata": {},
     "output_type": "display_data"
    },
    {
     "name": "stdout",
     "output_type": "stream",
     "text": [
      "The actual data had a SEM of 0.06405661469519336 and the bootstrapped data has STD of 0.06423119303770823 and a mean of 98.24880853846155.\n"
     ]
    }
   ],
   "source": [
    "_ = plt.hist(bs_replicates, bins=int(np.sqrt(10000)), density=True)\n",
    "_ = plt.xlabel('Body Temp (F)')\n",
    "_ = plt.ylabel('Freq.')\n",
    "_ = plt.title('PDF of 10,000 Bootstrapped means of Body Temp')\n",
    "_ = plt.figure(figsize=(20, 20))\n",
    "\n",
    "plt.show()\n",
    "\n",
    "print(f'The actual data had a SEM of {bs_sem} and the bootstrapped data has STD of {bs_std} and a mean of {bs_mean}.')"
   ]
  },
  {
   "cell_type": "markdown",
   "metadata": {},
   "source": [
    "Frequentist Test using one sample.\n",
    "\n",
    "Use one sample because we onlny have data from the sample, and no data from the entire population.  We can test the if the population mean is really 98.6 degrees F.\n",
    "\n",
    "Null Hypothesis: The true mean temp of the population and data is 98.6 degrees F\n",
    "\n",
    "Alternative Hypothesis: The mean temp of the population is less than or equal to mean of the data "
   ]
  },
  {
   "cell_type": "code",
   "execution_count": 96,
   "metadata": {},
   "outputs": [],
   "source": [
    "#shifting the data using the supposed true mean body temp\n",
    "translated_temp_data = b_temp - mean + 98.6"
   ]
  },
  {
   "cell_type": "code",
   "execution_count": 95,
   "metadata": {},
   "outputs": [],
   "source": [
    "def diff_from_true(data, true_mean=98.6):\n",
    "    return np.mean(data) - true_mean"
   ]
  },
  {
   "cell_type": "code",
   "execution_count": 98,
   "metadata": {},
   "outputs": [
    {
     "name": "stdout",
     "output_type": "stream",
     "text": [
      "-0.35076923076921673\n"
     ]
    }
   ],
   "source": [
    "diff_obs = diff_from_true(b_temp)\n",
    "print(diff_obs)"
   ]
  },
  {
   "cell_type": "code",
   "execution_count": 99,
   "metadata": {
    "collapsed": true
   },
   "outputs": [],
   "source": [
    "bs_replicates_trans = draw_bs_reps(translated_temp_data, diff_from_true, 100000)"
   ]
  },
  {
   "cell_type": "code",
   "execution_count": 100,
   "metadata": {},
   "outputs": [
    {
     "name": "stdout",
     "output_type": "stream",
     "text": [
      "0.0\n"
     ]
    }
   ],
   "source": [
    "#p-value\n",
    "p = np.sum(bs_replicates_trans <= diff_obs) / len(bs_replicates_trans)\n",
    "print(p)"
   ]
  },
  {
   "cell_type": "markdown",
   "metadata": {},
   "source": [
    "We get a p-value of 0, meaning the the probability of getting a mean temp less than or equal to the observed diff is so unlikely given the null hypothesis is true that we reject the null hypothesis.  In fact, in 100,000 trials we did not get a single result less than or equal to the observed differencce.\n",
    "\n",
    "In this case we would use a t statistic because the true population standard deviation is unknown and the sample population is greater than or equal to 30.\n",
    "\n",
    "The results of the bootstrap hypothesis showed that in 10,000 attepmts, the experiment did not even get close to a mean temp of 98.6 degrees F."
   ]
  },
  {
   "cell_type": "markdown",
   "metadata": {},
   "source": [
    "4.) Repeat tests using a sample size of 10"
   ]
  },
  {
   "cell_type": "code",
   "execution_count": 150,
   "metadata": {},
   "outputs": [
    {
     "data": {
      "image/png": "[encoded data removed]",
      "text/plain": [
       "<Figure size 432x288 with 1 Axes>"
      ]
     },
     "metadata": {},
     "output_type": "display_data"
    },
    {
     "name": "stdout",
     "output_type": "stream",
     "text": [
      "Sample Size 10: The mean of the data is 98.24923076923078 with a standard deviation of 0.7303577789050377.\n",
      "Sample Size 10: The mean of the sample is 97.98177192663715 with a standard deviation of 0.47419114513983296.\n",
      "Sample Size 10,000: The mean of the data is 98.24923076923078 with a standard deviation of 0.7303577789050377.\n",
      "Sample Size 10,000:The mean of the sample is 98.25238797960755 with a standard deviation of 0.732165321434236.\n"
     ]
    }
   ],
   "source": [
    "mean = np.mean(b_temp)\n",
    "std = np.std(b_temp)\n",
    "samples_10 = np.random.normal(mean, std, size=10)\n",
    "sample_mean_10 = np.mean(samples_10)\n",
    "sample_std_10 = np.std(samples_10)\n",
    "x, y = ecdf(b_temp)\n",
    "x_theor_10, y_theor_10 = ecdf(samples_10)\n",
    "\n",
    "_ = plt.hist(b_temp, bins=bin_temps, density=True)\n",
    "_ = plt.hist(x_theor_10, bins=bin_temps, density=True, histtype='step')\n",
    "_ = plt.xlabel('Body Temperature (F)')\n",
    "_ = plt.ylabel('PDF')\n",
    "_ = plt.legend(['Theoretical', 'Actual'])\n",
    "_ = plt.title('PDF of the Actual verus Normal distribution (Sample Size=10)')\n",
    "\n",
    "plt.show()\n",
    "\n",
    "print(f'Sample Size 10: The mean of the data is {mean} with a standard deviation of {std}.')\n",
    "print(f'Sample Size 10: The mean of the sample is {sample_mean_10} with a standard deviation of {sample_std_10}.')\n",
    "print(f'Sample Size 10,000: The mean of the data is {mean} with a standard deviation of {std}.')\n",
    "print(f'Sample Size 10,000:The mean of the sample is {sample_mean} with a standard deviation of {sample_std}.')"
   ]
  },
  {
   "cell_type": "code",
   "execution_count": 130,
   "metadata": {
    "scrolled": true
   },
   "outputs": [
    {
     "data": {
      "image/png": "[encoded data removed]",
      "text/plain": [
       "<Figure size 432x288 with 1 Axes>"
      ]
     },
     "metadata": {},
     "output_type": "display_data"
    }
   ],
   "source": [
    "_ = plt.plot(x_theor_10, y_theor_10)\n",
    "_ = plt.plot(x, y, marker='.', linestyle='none')\n",
    "_ = plt.xlabel('Body Temp. (F)')\n",
    "_ = plt.ylabel('CDF')\n",
    "_ = plt.legend(['Theor', 'Actual'])\n",
    "_ = plt.title('CDF of Body Temp (F), Sample Size=10')\n",
    "\n",
    "plt.show()"
   ]
  },
  {
   "cell_type": "code",
   "execution_count": 117,
   "metadata": {},
   "outputs": [],
   "source": [
    "def bootstrap_replicate_1d_10(data, func):\n",
    "    \"\"\"Generate bootstrap replicate of 1d data.\"\"\"\n",
    "    bs_sample = np.random.choice(data, 10)\n",
    "    return func(bs_sample)"
   ]
  },
  {
   "cell_type": "code",
   "execution_count": 118,
   "metadata": {
    "collapsed": true
   },
   "outputs": [],
   "source": [
    "def draw_bs_reps_10(data, func, size=1):\n",
    "    \"\"\"Draw bootstrap replicates\"\"\"\n",
    "\n",
    "    #initialize empty array of replicates \n",
    "    bs_replicates = np.empty(shape=size)\n",
    "    \n",
    "    #Generate replicates\n",
    "    for i in range(size):\n",
    "        bs_replicates[i] = bootstrap_replicate_1d_10(data, func)\n",
    "    \n",
    "    return bs_replicates"
   ]
  },
  {
   "cell_type": "code",
   "execution_count": 142,
   "metadata": {},
   "outputs": [],
   "source": [
    "#Draw 100000 bootstrap replicates for mean body temp\n",
    "bs_replicates_10 = draw_bs_reps_10(b_temp, np.mean, size=100000)\n",
    "bs_sem = sem(b_temp)\n",
    "bs_std_10 = np.std(bs_replicates_10)\n",
    "bs_mean_10 = np.mean(bs_replicates_10)"
   ]
  },
  {
   "cell_type": "code",
   "execution_count": 143,
   "metadata": {},
   "outputs": [
    {
     "data": {
      "image/png": "[encoded data removed]",
      "text/plain": [
       "<Figure size 432x288 with 1 Axes>"
      ]
     },
     "metadata": {},
     "output_type": "display_data"
    }
   ],
   "source": [
    "bs_x_10, bs_y_10 = ecdf(bs_replicates_10)\n",
    "_ = plt.plot(bs_x_10, bs_y_10, marker='.', linestyle='none')\n",
    "_ = plt.xlabel('Body Temp (F)')\n",
    "_ = plt.ylabel('CDF')\n",
    "_ = plt.title('CDF of 10,000 Bootstrapped means of Body Temp, Sample Size=10')\n",
    "plt.show()"
   ]
  },
  {
   "cell_type": "code",
   "execution_count": 151,
   "metadata": {},
   "outputs": [
    {
     "data": {
      "image/png": "[encoded data removed]",
      "text/plain": [
       "<Figure size 432x288 with 1 Axes>"
      ]
     },
     "metadata": {},
     "output_type": "display_data"
    },
    {
     "name": "stdout",
     "output_type": "stream",
     "text": [
      "Sample Size 100,000: The actual data had a SEM of 0.06405661469519336 and the bootstrapped data has STD of 0.06423119303770823 and a mean of 98.24880853846155.\n",
      "Sample Size 10: The actual data had a SEM of 0.06405661469519336 and the bootstrapped data has STD of 0.2311098255153811 and a mean of 98.24905050000001.\n"
     ]
    }
   ],
   "source": [
    "_ = plt.hist(bs_replicates_10, bins=int(np.sqrt(10000)), density=True)\n",
    "_ = plt.xlabel('Body Temp (F)')\n",
    "_ = plt.ylabel('Freq.')\n",
    "_ = plt.title('PDF of 10,000 Bootstrapped means of Body Temp, Sample Size=10')\n",
    "plt.show()\n",
    "\n",
    "print(f'Sample Size 100,000: The actual data had a SEM of {bs_sem} and the bootstrapped data has STD of {bs_std} and a mean of {bs_mean}.')\n",
    "print(f'Sample Size 10: The actual data had a SEM of {bs_sem} and the bootstrapped data has STD of {bs_std_10} and a mean of {bs_mean_10}.')"
   ]
  },
  {
   "cell_type": "code",
   "execution_count": 148,
   "metadata": {
    "collapsed": true
   },
   "outputs": [],
   "source": [
    "bs_replicates_trans_10 = draw_bs_reps_10(translated_temp_data, diff_from_true, 100000)"
   ]
  },
  {
   "cell_type": "code",
   "execution_count": 149,
   "metadata": {},
   "outputs": [
    {
     "name": "stdout",
     "output_type": "stream",
     "text": [
      "0.06299\n"
     ]
    }
   ],
   "source": [
    "#p-value\n",
    "p = np.sum(bs_replicates_trans_10 <= diff_obs) / len(bs_replicates_trans)\n",
    "print(p)"
   ]
  },
  {
   "cell_type": "markdown",
   "metadata": {},
   "source": [
    "By reducing the sample size to 10, we get different results.  In the bootstrapping example the theoretical data does not look as normally distributed anymore, but the means and standard deviation are closer than in the one sample test with ten samples. The one sample test looks more normally distributed but has a higher standard deviation, with a similar mean.\n",
    "\n",
    "In the one sample test, if we use a significance test with a significance values of 0.05 we can not reject the null hypothesis like when we had a higher sample size."
   ]
  },
  {
   "cell_type": "markdown",
   "metadata": {},
   "source": [
    "5.) What is considered abnormal body temperature?"
   ]
  },
  {
   "cell_type": "code",
   "execution_count": 164,
   "metadata": {},
   "outputs": [
    {
     "name": "stdout",
     "output_type": "stream",
     "text": [
      "[96.7225 99.4775]\n"
     ]
    }
   ],
   "source": [
    "conf_int = np.percentile(b_temp, [2.5, 97.5])\n",
    "print(conf_int)"
   ]
  },
  {
   "cell_type": "code",
   "execution_count": 170,
   "metadata": {
    "collapsed": true
   },
   "outputs": [],
   "source": [
    "def bootstrap_replicate_1d_nofunc(data, size):\n",
    "    \"\"\"Generate bootstrap replicate of 1d data.\"\"\"\n",
    "    bs_sample = np.random.choice(data, size)\n",
    "    return bs_sample"
   ]
  },
  {
   "cell_type": "code",
   "execution_count": 172,
   "metadata": {},
   "outputs": [],
   "source": [
    "bs_reps_abnormal = bootstrap_replicate_1d_nofunc(b_temp, 10000)"
   ]
  },
  {
   "cell_type": "code",
   "execution_count": 173,
   "metadata": {
    "collapsed": true
   },
   "outputs": [],
   "source": [
    "abnorm_x, abnorm_y = ecdf(bs_reps_abnormal)"
   ]
  },
  {
   "cell_type": "code",
   "execution_count": 178,
   "metadata": {},
   "outputs": [
    {
     "data": {
      "image/png": "[encoded data removed]",
      "text/plain": [
       "<Figure size 432x288 with 1 Axes>"
      ]
     },
     "metadata": {},
     "output_type": "display_data"
    }
   ],
   "source": [
    "_ = plt.plot(abnorm_x, abnorm_y, marker='.', linestyle='none')\n",
    "_ = plt.plot(x_theor, y_theor)\n",
    "_ = plt.xlabel('Body Temp. (F)')\n",
    "_ = plt.ylabel('CDF')\n",
    "_ = plt.legend(['Actual', 'Theor'])\n",
    "_ = plt.title('CDF of Body Temp (F), Sample Size=10')\n",
    "\n",
    "\n",
    "plt.show()"
   ]
  },
  {
   "cell_type": "code",
   "execution_count": 180,
   "metadata": {},
   "outputs": [
    {
     "name": "stdout",
     "output_type": "stream",
     "text": [
      "[96.7 99.5]\n"
     ]
    }
   ],
   "source": [
    "bs_conf_int = np.percentile(bs_reps_abnormal, [2.5, 97.5])\n",
    "print(bs_conf_int)"
   ]
  },
  {
   "cell_type": "markdown",
   "metadata": {},
   "source": [
    "Using just the data given, the abnormal body temperature would be anything below 96.72 degrees F and anything above 99.48 degrees F.\n",
    "Using the bootstrapped hypothesis test, the abnormal body temperature would be anything below 96.7 degrees F and anything above 99.5 degrees F."
   ]
  },
  {
   "cell_type": "markdown",
   "metadata": {},
   "source": [
    "6.) Is there a difference between males and females in normal temperature?\n",
    "\n",
    "null hypothesis: males and females have the same mean body temperatures\n",
    "\n",
    "Significance value of 0.05 will be used"
   ]
  },
  {
   "cell_type": "code",
   "execution_count": 157,
   "metadata": {
    "collapsed": true
   },
   "outputs": [],
   "source": [
    "female = df[df.gender == 'F']\n",
    "male = df[df.gender == 'M']"
   ]
  },
  {
   "cell_type": "code",
   "execution_count": 158,
   "metadata": {},
   "outputs": [
    {
     "name": "stdout",
     "output_type": "stream",
     "text": [
      "<class 'pandas.core.frame.DataFrame'>\n",
      "Int64Index: 65 entries, 0 to 129\n",
      "Data columns (total 3 columns):\n",
      "temperature    65 non-null float64\n",
      "gender         65 non-null object\n",
      "heart_rate     65 non-null float64\n",
      "dtypes: float64(2), object(1)\n",
      "memory usage: 2.0+ KB\n"
     ]
    }
   ],
   "source": [
    "female.info()"
   ]
  },
  {
   "cell_type": "code",
   "execution_count": 159,
   "metadata": {},
   "outputs": [
    {
     "name": "stdout",
     "output_type": "stream",
     "text": [
      "<class 'pandas.core.frame.DataFrame'>\n",
      "Int64Index: 65 entries, 2 to 128\n",
      "Data columns (total 3 columns):\n",
      "temperature    65 non-null float64\n",
      "gender         65 non-null object\n",
      "heart_rate     65 non-null float64\n",
      "dtypes: float64(2), object(1)\n",
      "memory usage: 2.0+ KB\n"
     ]
    }
   ],
   "source": [
    "male.info()"
   ]
  },
  {
   "cell_type": "code",
   "execution_count": 161,
   "metadata": {
    "collapsed": true
   },
   "outputs": [],
   "source": [
    "male_temp = male['temperature']\n",
    "female_temp = female['temperature']\n",
    "male_mean = np.mean(male_temp)\n",
    "male_std = np.std(male_temp)\n",
    "female_mean = np.mean(female_temp)\n",
    "female_std = np.std(female_temp)\n",
    "mx, my = ecdf(male_temp)\n",
    "fx, fy = ecdf(female_temp)"
   ]
  },
  {
   "cell_type": "code",
   "execution_count": 163,
   "metadata": {},
   "outputs": [
    {
     "data": {
      "image/png": "[encoded data removed]",
      "text/plain": [
       "<Figure size 432x288 with 1 Axes>"
      ]
     },
     "metadata": {},
     "output_type": "display_data"
    }
   ],
   "source": [
    "_ = plt.plot(x_theor, y_theor)\n",
    "_ = plt.plot(mx, my, marker='.', linestyle='none', color='blue')\n",
    "_ = plt.plot(fx, fy, marker='.', linestyle='none', color='red')\n",
    "_ = plt.xlabel('Body Temp. (F)')\n",
    "_ = plt.ylabel('CDF')\n",
    "_ = plt.legend(['Theor_both', 'Male', 'Female'])\n",
    "_ = plt.title('CDF of Body Temp (F)')\n",
    "\n",
    "plt.show()"
   ]
  },
  {
   "cell_type": "code",
   "execution_count": 192,
   "metadata": {
    "collapsed": true
   },
   "outputs": [],
   "source": [
    "#Shift arrays with the mean of the total sample\n",
    "male_temp_shifted = male_temp - male_mean + mean\n",
    "female_temp_shifted = female_temp - female_mean + mean"
   ]
  },
  {
   "cell_type": "code",
   "execution_count": 193,
   "metadata": {
    "collapsed": true
   },
   "outputs": [],
   "source": [
    "#draw 10,000 boot strap replicates of male and female body temperature\n",
    "bs_reps_male = draw_bs_reps(male_temp_shifted, np.mean, size = 10000)\n",
    "bs_reps_female = draw_bs_reps(female_temp_shifted, np.mean, size = 10000)"
   ]
  },
  {
   "cell_type": "code",
   "execution_count": 195,
   "metadata": {
    "collapsed": true
   },
   "outputs": [],
   "source": [
    "#difference of means of bs replicates\n",
    "bs_reps_diff_means = bs_reps_female - bs_reps_male"
   ]
  },
  {
   "cell_type": "code",
   "execution_count": 196,
   "metadata": {},
   "outputs": [
    {
     "name": "stdout",
     "output_type": "stream",
     "text": [
      "0.289230769230727\n"
     ]
    }
   ],
   "source": [
    "#empirical difference of means\n",
    "empirical_diff_means = female_mean - male_mean\n",
    "print(empirical_diff_means)"
   ]
  },
  {
   "cell_type": "code",
   "execution_count": 197,
   "metadata": {},
   "outputs": [
    {
     "name": "stdout",
     "output_type": "stream",
     "text": [
      "p-value: 0.0113\n"
     ]
    }
   ],
   "source": [
    "#p-value\n",
    "p_gender = np.sum(bs_reps_diff_means >= empirical_diff_means)/len(bs_reps_diff_means)\n",
    "print(f'p-value: {p_gender}')"
   ]
  },
  {
   "cell_type": "markdown",
   "metadata": {},
   "source": [
    "We can look at the CDF of male and female body temperatures and see that they have different body temperatures.  To verify that they do, a two-sample bootstrap hypothesis test for the difference of means was used.  A two-sample test was used because we have the data for both females and males.  We get a p-value less the significance value of 0.05.  This means we reject the null hypothesis, thus the mean body temps of males and females are not the same."
   ]
  },
  {
   "cell_type": "code",
   "execution_count": null,
   "metadata": {
    "collapsed": true
   },
   "outputs": [],
   "source": []
  }
 ],
 "metadata": {
  "kernelspec": {
   "display_name": "Python 3",
   "language": "python",
   "name": "python3"
  },
  "language_info": {
   "codemirror_mode": {
    "name": "ipython",
    "version": 3
   },
   "file_extension": ".py",
   "mimetype": "text/x-python",
   "name": "python",
   "nbconvert_exporter": "python",
   "pygments_lexer": "ipython3",
   "version": "3.6.3"
  }
 },
 "nbformat": 4,
 "nbformat_minor": 1
}
